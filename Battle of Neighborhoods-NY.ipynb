{
 "cells": [
  {
   "cell_type": "markdown",
   "metadata": {},
   "source": [
    "# Capstone Project - The Battle of Neighborhoods (Week 1)"
   ]
  },
  {
   "cell_type": "markdown",
   "metadata": {},
   "source": [
    "## Introduction/Business Problem"
   ]
  },
  {
   "cell_type": "markdown",
   "metadata": {},
   "source": [
    "New York, the Big Apple, is a famous city for travelling, working, and exploring. It is the most ethnically diverse, religiously varied, commercially driven, famously congested, and, in the eyes of many, the most attractive urban centre in the country. There's no other city has contributed more images to the collective consciousness of Americans: Wall Street means finance, Broadway is synonymous with theatre, Fifth Avenue is automatically paired with shopping, Madison Avenue means the advertising industry, Greenwich Village connotes bohemian lifestyles, Seventh Avenue signifies fashion, Tammany Hall defines machine politics, and Harlem evokes images of the Jazz Age, African American aspirations, and slums."
   ]
  },
  {
   "cell_type": "markdown",
   "metadata": {},
   "source": [
    "Based on The Research Unit at NYC & Company, in 2018 there were 65.1 million travelers visiting New York City, both domestic and international visitors reached new highs.  This is also the ninth straight annual increase since the economic slowdown in 2009: over the 2010-2018 periods, travel volume gains averaged 4.2% per year, rising from 48.8 million to 65.1 million. Most of those folks came from other parts of the United States, but in terms of visitors outside the U.S., the biggest numbers of tourists from Great Britain (1.24 million) and China (1.1 million)."
   ]
  },
  {
   "cell_type": "markdown",
   "metadata": {},
   "source": [
    "Some friends of mine, who are running tea related business together, are curious about the handmade tea in New York since some handmade tea brand, such as Sharetea, Kung Fu Tea, Coco…etc are famous and popular in Asian countries. They are thinking about either setup a handmade tea room or luxury tea room with modern decoration. They’d like to know some questions below: "
   ]
  },
  {
   "cell_type": "markdown",
   "metadata": {},
   "source": [
    "* How many Tea Rooms in New York City?\n",
    "* Which areas have the most Tea Room?\n",
    "* How’s their rating?\n",
    "* Which will be the potential area if they want to open Tea Room?\n",
    "* Which will be the potential area if they want to open luxury tea room with modern decoration?"
   ]
  },
  {
   "cell_type": "markdown",
   "metadata": {},
   "source": [
    "## Describe the data"
   ]
  },
  {
   "cell_type": "markdown",
   "metadata": {},
   "source": [
    "For this project I use the following data :\n",
    "* New York City data that contains list Boroughs, Neighborhoods along with their latitude and longitude.\n",
    "  Data source : https://cocl.us/new_york_dataset\n",
    "* Tea Rooms in each neighborhood of New York city.\n",
    "  Data source : Fousquare API\n",
    "* GeoSpace data\n",
    "  Data source : https://data.cityofnewyork.us/City-Government/Borough-Boundaries/tqmj-j8zm\n"
   ]
  },
  {
   "cell_type": "markdown",
   "metadata": {},
   "source": [
    "## Approach"
   ]
  },
  {
   "cell_type": "markdown",
   "metadata": {},
   "source": [
    "* Collect the new york city data from https://cocl.us/new_york_dataset\n",
    "* Using FourSquare API we will find all venues for each neighborhood.\n",
    "* Filter out all venues that are Tea Rooms.\n",
    "* Find rating, tips and like count for each Tea Rooms using FourSquare API.\n",
    "* Visualize the Ranking of neighborhoods using folium library\n"
   ]
  },
  {
   "cell_type": "code",
   "execution_count": null,
   "metadata": {},
   "outputs": [],
   "source": []
  }
 ],
 "metadata": {
  "kernelspec": {
   "display_name": "Python 3.6",
   "language": "python",
   "name": "python3"
  },
  "language_info": {
   "codemirror_mode": {
    "name": "ipython",
    "version": 3
   },
   "file_extension": ".py",
   "mimetype": "text/x-python",
   "name": "python",
   "nbconvert_exporter": "python",
   "pygments_lexer": "ipython3",
   "version": "3.6.8"
  }
 },
 "nbformat": 4,
 "nbformat_minor": 1
}
